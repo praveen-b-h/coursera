{
 "cells": [
  {
   "cell_type": "code",
   "execution_count": 1,
   "id": "6732cb83-6f90-41b0-8cbd-113079e49ad5",
   "metadata": {
    "tags": []
   },
   "outputs": [],
   "source": [
    "#Data Science Tools and Ecosystem"
   ]
  },
  {
   "cell_type": "markdown",
   "id": "f50925ba-2800-48d3-86ad-0e95ef3fa021",
   "metadata": {},
   "source": [
    "In this notebook, Data Science Tools and Ecosystem are summarized."
   ]
  },
  {
   "cell_type": "markdown",
   "id": "d63a27ec-273b-40c0-adcb-36585b8d1b37",
   "metadata": {
    "tags": []
   },
   "source": [
    "Objectives:\n",
    "1. Introduction to R and R Studio\n",
    "2. Languages of Data Science\n",
    "3. Introduction to Python\n",
    "4. Introduction to SQL"
   ]
  },
  {
   "cell_type": "markdown",
   "id": "3ccec66e-3b8d-4c44-9ef0-2cb0814b31a4",
   "metadata": {},
   "source": [
    "Some of the popular languages that Data Scientists use are:\n",
    "1. Python\n",
    "2. R- language\n",
    "3. SQL"
   ]
  },
  {
   "cell_type": "markdown",
   "id": "1b421039-0bbe-4a16-9db1-5fc7ea7e822f",
   "metadata": {},
   "source": [
    "Some of the commonly used libraries used by Data Scientists include:\n",
    "1. Numpy\n",
    "2. Matplotlib\n",
    "3. Pandas"
   ]
  },
  {
   "cell_type": "markdown",
   "id": "9a16e7c2-cf0b-4255-ac3c-acfa77bfad5d",
   "metadata": {},
   "source": [
    "Data Science Tools:\n",
    "1. Jupyter\n",
    "2. R-studio\n",
    "3. Anaconda"
   ]
  },
  {
   "cell_type": "code",
   "execution_count": 2,
   "id": "b7f2e317-790a-4894-ad0c-dbae33325665",
   "metadata": {
    "tags": []
   },
   "outputs": [],
   "source": [
    "###Below are a few examples of evaluating arithmetic expressions in Python"
   ]
  },
  {
   "cell_type": "code",
   "execution_count": 9,
   "id": "a56f32ae-1c33-4258-a599-4e4e5ed4d99a",
   "metadata": {
    "tags": []
   },
   "outputs": [
    {
     "data": {
      "text/plain": [
       "17"
      ]
     },
     "execution_count": 9,
     "metadata": {},
     "output_type": "execute_result"
    }
   ],
   "source": [
    "#This a simple arithmetic expression to mutiply then add integers\n",
    "(3*4)+5"
   ]
  },
  {
   "cell_type": "code",
   "execution_count": 10,
   "id": "7569e901-1ea7-470e-9573-4e8a567f6a14",
   "metadata": {
    "tags": []
   },
   "outputs": [
    {
     "data": {
      "text/plain": [
       "3.3333333333333335"
      ]
     },
     "execution_count": 10,
     "metadata": {},
     "output_type": "execute_result"
    }
   ],
   "source": [
    "#This will convert 200 minutes to hours by diving by 60\n",
    "200/60"
   ]
  },
  {
   "cell_type": "markdown",
   "id": "882d34e3-eceb-4643-b514-53f3db905bb4",
   "metadata": {},
   "source": [
    "##Author\n",
    "Praveen"
   ]
  },
  {
   "cell_type": "code",
   "execution_count": null,
   "id": "0dcbf15d-f61f-40e2-8b26-132850d60c28",
   "metadata": {},
   "outputs": [],
   "source": []
  }
 ],
 "metadata": {
  "kernelspec": {
   "display_name": "Python",
   "language": "python",
   "name": "conda-env-python-py"
  },
  "language_info": {
   "codemirror_mode": {
    "name": "ipython",
    "version": 3
   },
   "file_extension": ".py",
   "mimetype": "text/x-python",
   "name": "python",
   "nbconvert_exporter": "python",
   "pygments_lexer": "ipython3",
   "version": "3.7.12"
  }
 },
 "nbformat": 4,
 "nbformat_minor": 5
}
